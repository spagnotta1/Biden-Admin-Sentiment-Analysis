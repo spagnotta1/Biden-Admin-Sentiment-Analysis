{
 "cells": [
  {
   "cell_type": "code",
   "execution_count": 1,
   "id": "589fe664",
   "metadata": {},
   "outputs": [],
   "source": [
    "import tweepy\n",
    "import time\n",
    "import pandas as pd"
   ]
  },
  {
   "cell_type": "markdown",
   "id": "d2f0734a",
   "metadata": {},
   "source": [
    "### How to scrape tweets from a user:"
   ]
  },
  {
   "cell_type": "code",
   "execution_count": 2,
   "id": "ee38fd34",
   "metadata": {},
   "outputs": [],
   "source": [
    "consumer_key = \"o4pt1fngRAdHsObmD2EdlcIW0\"\n",
    "consumer_secret = \"aF90rW5eNwtXTLbjOdnyh6raIcX7eIoRGn4HPmEPfCpr4hJOfK\"\n",
    "access_token = \"901080977094717440-qLw47Go1Se4LlKoQ5O1kxxU3LlkWB7J\"\n",
    "access_token_secret = \"yKbTUD8bKXGDSycPuNgMtE7gKdZ743DwLXmkfbTuqZWtz\"\n",
    "\n",
    "# Pass in our twitter API authentification key\n",
    "\n",
    "auth = tweepy.OAuth1UserHandler(\n",
    "    consumer_key, consumer_secret,\n",
    "    access_token, access_token_secret\n",
    ")\n",
    "\n",
    "# Instantiate the tweepy API \n",
    "api = tweepy.API(auth, wait_on_rate_limit = True)\n",
    "\n",
    "username = \"JoeBiden\"\n",
    "no_of_tweets = 100\n",
    "\n",
    "try:\n",
    "    # the number of tweets we want to retreieve from the user\n",
    "    tweets = api.user_timeline(screen_name=username, count = no_of_tweets)\n",
    "    \n",
    "    # Pulling some attributes from the tweet\n",
    "    attributes_container = [[tweet.created_at, tweet.favorite_count,tweet.source,  tweet.text] for tweet in tweets]\n",
    "    \n",
    "    # Creation of column list to rename the columns in the dataframe\n",
    "    columns = [\"Date Created\", \"Number of Likes\", \"Source of Tweet\", \"Tweet\"]\n",
    "    \n",
    "    # Creation of DataFrame\n",
    "    tweets_df = pd.DataFrame(attributes_container, columns=columns)\n",
    "except BaseException as e:\n",
    "    print(\"Status Failed On,\", str(e))\n",
    "    time.sleep(3)"
   ]
  },
  {
   "cell_type": "code",
   "execution_count": 3,
   "id": "85275c35",
   "metadata": {},
   "outputs": [
    {
     "data": {
      "text/html": [
       "<div>\n",
       "<style scoped>\n",
       "    .dataframe tbody tr th:only-of-type {\n",
       "        vertical-align: middle;\n",
       "    }\n",
       "\n",
       "    .dataframe tbody tr th {\n",
       "        vertical-align: top;\n",
       "    }\n",
       "\n",
       "    .dataframe thead th {\n",
       "        text-align: right;\n",
       "    }\n",
       "</style>\n",
       "<table border=\"1\" class=\"dataframe\">\n",
       "  <thead>\n",
       "    <tr style=\"text-align: right;\">\n",
       "      <th></th>\n",
       "      <th>Date Created</th>\n",
       "      <th>Number of Likes</th>\n",
       "      <th>Source of Tweet</th>\n",
       "      <th>Tweet</th>\n",
       "    </tr>\n",
       "  </thead>\n",
       "  <tbody>\n",
       "    <tr>\n",
       "      <th>0</th>\n",
       "      <td>2022-12-12 17:43:05+00:00</td>\n",
       "      <td>4814</td>\n",
       "      <td>Sprout Social</td>\n",
       "      <td>For the first time since 1934, every single se...</td>\n",
       "    </tr>\n",
       "    <tr>\n",
       "      <th>1</th>\n",
       "      <td>2022-12-10 23:37:00+00:00</td>\n",
       "      <td>9639</td>\n",
       "      <td>Sprout Social</td>\n",
       "      <td>The “Butch-Lewis Act” in the American Rescue P...</td>\n",
       "    </tr>\n",
       "    <tr>\n",
       "      <th>2</th>\n",
       "      <td>2022-12-10 19:15:01+00:00</td>\n",
       "      <td>7083</td>\n",
       "      <td>Sprout Social</td>\n",
       "      <td>The American Rescue Plan helped keep multi-emp...</td>\n",
       "    </tr>\n",
       "    <tr>\n",
       "      <th>3</th>\n",
       "      <td>2022-12-10 00:08:00+00:00</td>\n",
       "      <td>9121</td>\n",
       "      <td>Sprout Social</td>\n",
       "      <td>By including the “Butch-Lewis Act” in the Amer...</td>\n",
       "    </tr>\n",
       "    <tr>\n",
       "      <th>4</th>\n",
       "      <td>2022-12-09 18:35:01+00:00</td>\n",
       "      <td>9476</td>\n",
       "      <td>Sprout Social</td>\n",
       "      <td>The United States is a top destination for com...</td>\n",
       "    </tr>\n",
       "  </tbody>\n",
       "</table>\n",
       "</div>"
      ],
      "text/plain": [
       "               Date Created  Number of Likes Source of Tweet  \\\n",
       "0 2022-12-12 17:43:05+00:00             4814   Sprout Social   \n",
       "1 2022-12-10 23:37:00+00:00             9639   Sprout Social   \n",
       "2 2022-12-10 19:15:01+00:00             7083   Sprout Social   \n",
       "3 2022-12-10 00:08:00+00:00             9121   Sprout Social   \n",
       "4 2022-12-09 18:35:01+00:00             9476   Sprout Social   \n",
       "\n",
       "                                               Tweet  \n",
       "0  For the first time since 1934, every single se...  \n",
       "1  The “Butch-Lewis Act” in the American Rescue P...  \n",
       "2  The American Rescue Plan helped keep multi-emp...  \n",
       "3  By including the “Butch-Lewis Act” in the Amer...  \n",
       "4  The United States is a top destination for com...  "
      ]
     },
     "execution_count": 3,
     "metadata": {},
     "output_type": "execute_result"
    }
   ],
   "source": [
    "tweets_df.head(5)"
   ]
  },
  {
   "cell_type": "markdown",
   "id": "ecb5adc0",
   "metadata": {},
   "source": [
    "### How to scrape tweets from a text search:"
   ]
  },
  {
   "cell_type": "markdown",
   "id": "4fa57ef1",
   "metadata": {},
   "source": [
    "In this method we will be retrieving a tweet based on a search."
   ]
  },
  {
   "cell_type": "code",
   "execution_count": 10,
   "id": "99da70a1",
   "metadata": {},
   "outputs": [],
   "source": [
    "#search_query = \"2022  midterm elections\"\n",
    "#search_query = \"State Senate\"\n",
    "\n",
    "search_query = \"Biden Administration\"\n",
    "no_of_tweets = 150\n",
    "\n",
    "try:\n",
    "    # The number of tweets we want to retrieve from the search\n",
    "    tweets = api.search_tweets(q=search_query, count = no_of_tweets)\n",
    "    \n",
    "    # Pulling some attributes from the tweet\n",
    "    attributes_container = [[tweet.user.name, tweet.created_at, tweet.favorite_count, tweet.source,  tweet.text] for tweet in tweets]\n",
    "    \n",
    "    # Creation of column list to rename the columns in the dataframe\n",
    "    columns = [\"User\", \"Date Created\", \"Number of Likes\", \"Source of Tweet\", \"Tweet\"]\n",
    "    \n",
    "    # Creation of Dataframe\n",
    "    tweets_text_df = pd.DataFrame(attributes_container, columns=columns)\n",
    "    \n",
    "except BaseException as e:\n",
    "    print(\"Status Failed On,\", str(e))"
   ]
  },
  {
   "cell_type": "code",
   "execution_count": 11,
   "id": "9e57dea7",
   "metadata": {},
   "outputs": [
    {
     "data": {
      "text/html": [
       "<div>\n",
       "<style scoped>\n",
       "    .dataframe tbody tr th:only-of-type {\n",
       "        vertical-align: middle;\n",
       "    }\n",
       "\n",
       "    .dataframe tbody tr th {\n",
       "        vertical-align: top;\n",
       "    }\n",
       "\n",
       "    .dataframe thead th {\n",
       "        text-align: right;\n",
       "    }\n",
       "</style>\n",
       "<table border=\"1\" class=\"dataframe\">\n",
       "  <thead>\n",
       "    <tr style=\"text-align: right;\">\n",
       "      <th></th>\n",
       "      <th>User</th>\n",
       "      <th>Date Created</th>\n",
       "      <th>Number of Likes</th>\n",
       "      <th>Source of Tweet</th>\n",
       "      <th>Tweet</th>\n",
       "    </tr>\n",
       "  </thead>\n",
       "  <tbody>\n",
       "    <tr>\n",
       "      <th>0</th>\n",
       "      <td>Lee Badgley</td>\n",
       "      <td>2022-12-11 16:07:23+00:00</td>\n",
       "      <td>0</td>\n",
       "      <td>Twitter for iPhone</td>\n",
       "      <td>@ZenTeague @knothand1 @TimRunsHisMouth @POTUS ...</td>\n",
       "    </tr>\n",
       "    <tr>\n",
       "      <th>1</th>\n",
       "      <td>Debbie</td>\n",
       "      <td>2022-12-11 16:07:17+00:00</td>\n",
       "      <td>0</td>\n",
       "      <td>Twitter for iPhone</td>\n",
       "      <td>@FoxNews There is no limit to Biden &amp;amp; his ...</td>\n",
       "    </tr>\n",
       "    <tr>\n",
       "      <th>2</th>\n",
       "      <td>Giveback Ourchoice</td>\n",
       "      <td>2022-12-11 16:07:15+00:00</td>\n",
       "      <td>0</td>\n",
       "      <td>Twitter for Android</td>\n",
       "      <td>Why aren't the Republicans throwing a fit abou...</td>\n",
       "    </tr>\n",
       "    <tr>\n",
       "      <th>3</th>\n",
       "      <td>HandsomeBully</td>\n",
       "      <td>2022-12-11 16:07:15+00:00</td>\n",
       "      <td>0</td>\n",
       "      <td>Twitter for Android</td>\n",
       "      <td>@RSic90896766 @DaperReptilian @ken2lil @Awilix...</td>\n",
       "    </tr>\n",
       "    <tr>\n",
       "      <th>4</th>\n",
       "      <td>Steve Palmo</td>\n",
       "      <td>2022-12-11 16:07:09+00:00</td>\n",
       "      <td>0</td>\n",
       "      <td>Twitter for iPhone</td>\n",
       "      <td>Court Permanently Blocks Biden Administration’...</td>\n",
       "    </tr>\n",
       "  </tbody>\n",
       "</table>\n",
       "</div>"
      ],
      "text/plain": [
       "                 User              Date Created  Number of Likes  \\\n",
       "0         Lee Badgley 2022-12-11 16:07:23+00:00                0   \n",
       "1              Debbie 2022-12-11 16:07:17+00:00                0   \n",
       "2  Giveback Ourchoice 2022-12-11 16:07:15+00:00                0   \n",
       "3       HandsomeBully 2022-12-11 16:07:15+00:00                0   \n",
       "4         Steve Palmo 2022-12-11 16:07:09+00:00                0   \n",
       "\n",
       "       Source of Tweet                                              Tweet  \n",
       "0   Twitter for iPhone  @ZenTeague @knothand1 @TimRunsHisMouth @POTUS ...  \n",
       "1   Twitter for iPhone  @FoxNews There is no limit to Biden &amp; his ...  \n",
       "2  Twitter for Android  Why aren't the Republicans throwing a fit abou...  \n",
       "3  Twitter for Android  @RSic90896766 @DaperReptilian @ken2lil @Awilix...  \n",
       "4   Twitter for iPhone  Court Permanently Blocks Biden Administration’...  "
      ]
     },
     "execution_count": 11,
     "metadata": {},
     "output_type": "execute_result"
    }
   ],
   "source": [
    "tweets_text_df.head()"
   ]
  },
  {
   "cell_type": "markdown",
   "id": "ab88d79b",
   "metadata": {},
   "source": [
    "For my 2022 Midterm Sentiment Analysis, I will be scraping twitter using the text search query of \"2022 midterm elections\"\n",
    "\n",
    "I will then store all tweets within a data frame, that will be used as my data source for my analysis.\n",
    "\n",
    "I have seperated my notebook files so that it is more organized and easier to read.\n",
    "\n",
    "The other notebook file named \"2022 Midterm Election Sentiment Analysis\" will be where my analysis, ML model, and visualizations will be conducted.\n",
    "\n",
    "\n"
   ]
  },
  {
   "cell_type": "code",
   "execution_count": 12,
   "id": "54a26a02",
   "metadata": {},
   "outputs": [],
   "source": [
    "# Export tweets_text_df to a csv file\n",
    "\n",
    "from pathlib import Path\n",
    "filepath = Path(r\"C:\\Users\\Sal\\Desktop\\2022 Midterm Election - Sentiment Analysis/twitter_data.csv\")\n",
    "filepath.parent.mkdir(parents=True, exist_ok = True)\n",
    "tweets_text_df.to_csv(filepath)"
   ]
  },
  {
   "cell_type": "code",
   "execution_count": null,
   "id": "d9307c9e",
   "metadata": {},
   "outputs": [],
   "source": []
  }
 ],
 "metadata": {
  "kernelspec": {
   "display_name": "Python 3 (ipykernel)",
   "language": "python",
   "name": "python3"
  },
  "language_info": {
   "codemirror_mode": {
    "name": "ipython",
    "version": 3
   },
   "file_extension": ".py",
   "mimetype": "text/x-python",
   "name": "python",
   "nbconvert_exporter": "python",
   "pygments_lexer": "ipython3",
   "version": "3.9.7"
  }
 },
 "nbformat": 4,
 "nbformat_minor": 5
}
